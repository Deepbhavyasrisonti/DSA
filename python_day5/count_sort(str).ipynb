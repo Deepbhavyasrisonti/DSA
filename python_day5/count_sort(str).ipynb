{
 "cells": [
  {
   "cell_type": "code",
   "execution_count": 2,
   "id": "0d4832ad-f8f3-4967-ac65-a349d494c5d4",
   "metadata": {},
   "outputs": [
    {
     "name": "stdin",
     "output_type": "stream",
     "text": [
      "enter a string missimiss\n"
     ]
    },
    {
     "name": "stdout",
     "output_type": "stream",
     "text": [
      "OriginalString: missimiss\n",
      "SortedString: iiimmssss\n"
     ]
    }
   ],
   "source": [
    "def csortString(s):\n",
    "    count=[0]*26\n",
    "    for char in s:\n",
    "        count[ord(char)-ord('a')]+=1\n",
    "    sorted_str=''\n",
    "    for i in range(26):\n",
    "        sorted_str+=chr(i+ord('a'))*count[i]\n",
    "    return sorted_str\n",
    "name=input(\"enter a string\")\n",
    "sorted_name=csortString(name)\n",
    "print(\"OriginalString:\",name)\n",
    "print(\"SortedString:\",sorted_name)"
   ]
  },
  {
   "cell_type": "code",
   "execution_count": null,
   "id": "0fbf6f4f-0653-4141-a2c8-39710c180ad2",
   "metadata": {},
   "outputs": [],
   "source": []
  }
 ],
 "metadata": {
  "kernelspec": {
   "display_name": "Python 3 (ipykernel)",
   "language": "python",
   "name": "python3"
  },
  "language_info": {
   "codemirror_mode": {
    "name": "ipython",
    "version": 3
   },
   "file_extension": ".py",
   "mimetype": "text/x-python",
   "name": "python",
   "nbconvert_exporter": "python",
   "pygments_lexer": "ipython3",
   "version": "3.12.7"
  }
 },
 "nbformat": 4,
 "nbformat_minor": 5
}
