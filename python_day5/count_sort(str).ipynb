{
 "cells": [
  {
   "cell_type": "code",
   "execution_count": 1,
   "id": "547722dc-609f-46cd-a9d3-a2bba64ad357",
   "metadata": {},
   "outputs": [
    {
     "name": "stdin",
     "output_type": "stream",
     "text": [
      "enter a single word missiissmii\n"
     ]
    },
    {
     "ename": "UnboundLocalError",
     "evalue": "cannot access local variable 'sorted_str' where it is not associated with a value",
     "output_type": "error",
     "traceback": [
      "\u001b[1;31m---------------------------------------------------------------------------\u001b[0m",
      "\u001b[1;31mUnboundLocalError\u001b[0m                         Traceback (most recent call last)",
      "Cell \u001b[1;32mIn[1], line 10\u001b[0m\n\u001b[0;32m      8\u001b[0m     \u001b[38;5;28;01mreturn\u001b[39;00m sorted_str\n\u001b[0;32m      9\u001b[0m name\u001b[38;5;241m=\u001b[39m\u001b[38;5;28minput\u001b[39m(\u001b[38;5;124m\"\u001b[39m\u001b[38;5;124menter a single word\u001b[39m\u001b[38;5;124m\"\u001b[39m)\n\u001b[1;32m---> 10\u001b[0m sorted_name\u001b[38;5;241m=\u001b[39mcsortString(name)\n\u001b[0;32m     11\u001b[0m \u001b[38;5;28mprint\u001b[39m(\u001b[38;5;124m\"\u001b[39m\u001b[38;5;124moriginal string:\u001b[39m\u001b[38;5;124m\"\u001b[39m,name)\n\u001b[0;32m     12\u001b[0m \u001b[38;5;28mprint\u001b[39m(\u001b[38;5;124m\"\u001b[39m\u001b[38;5;124mSorted string:\u001b[39m\u001b[38;5;124m\"\u001b[39m,sorted_name)\n",
      "Cell \u001b[1;32mIn[1], line 7\u001b[0m, in \u001b[0;36mcsortString\u001b[1;34m(s)\u001b[0m\n\u001b[0;32m      5\u001b[0m sorted_name\u001b[38;5;241m=\u001b[39m\u001b[38;5;124m'\u001b[39m\u001b[38;5;124m'\u001b[39m\n\u001b[0;32m      6\u001b[0m \u001b[38;5;28;01mfor\u001b[39;00m i \u001b[38;5;129;01min\u001b[39;00m \u001b[38;5;28mrange\u001b[39m(\u001b[38;5;241m26\u001b[39m):\n\u001b[1;32m----> 7\u001b[0m     sorted_str\u001b[38;5;241m+\u001b[39m\u001b[38;5;241m=\u001b[39m\u001b[38;5;28mchr\u001b[39m(i\u001b[38;5;241m+\u001b[39m\u001b[38;5;28mord\u001b[39m(\u001b[38;5;124m'\u001b[39m\u001b[38;5;124ma\u001b[39m\u001b[38;5;124m'\u001b[39m))\u001b[38;5;241m*\u001b[39mcount[i]\n\u001b[0;32m      8\u001b[0m \u001b[38;5;28;01mreturn\u001b[39;00m sorted_str\n",
      "\u001b[1;31mUnboundLocalError\u001b[0m: cannot access local variable 'sorted_str' where it is not associated with a value"
     ]
    }
   ],
   "source": [
    "def csortString(s):\n",
    "    count=[0]*26\n",
    "    for char in s:\n",
    "        count[ord(char)-ord('a')]+=1\n",
    "    sorted_st=''\n",
    "    for i in range(26):\n",
    "        sorted_str+=chr(i+ord('a'))*count[i]\n",
    "    return sorted_str\n",
    "name=input(\"enter a single word\")\n",
    "sorted_name=csortString(name)\n",
    "print(\"original string:\",name)\n",
    "print(\"Sorted string:\",sorted_name)"
   ]
  },
  {
   "cell_type": "code",
   "execution_count": null,
   "id": "fe757b7b-30a9-4305-af33-a1e4a781c957",
   "metadata": {},
   "outputs": [],
   "source": []
  }
 ],
 "metadata": {
  "kernelspec": {
   "display_name": "Python 3 (ipykernel)",
   "language": "python",
   "name": "python3"
  },
  "language_info": {
   "codemirror_mode": {
    "name": "ipython",
    "version": 3
   },
   "file_extension": ".py",
   "mimetype": "text/x-python",
   "name": "python",
   "nbconvert_exporter": "python",
   "pygments_lexer": "ipython3",
   "version": "3.12.7"
  }
 },
 "nbformat": 4,
 "nbformat_minor": 5
}
