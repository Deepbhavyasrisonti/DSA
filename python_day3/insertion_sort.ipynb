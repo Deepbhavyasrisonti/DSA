{
 "cells": [
  {
   "cell_type": "code",
   "execution_count": 5,
   "id": "8bee975b-525c-4239-a64d-e01a969d32e5",
   "metadata": {},
   "outputs": [
    {
     "name": "stdin",
     "output_type": "stream",
     "text": [
      "enter the no.of elements: 4\n"
     ]
    },
    {
     "name": "stdout",
     "output_type": "stream",
     "text": [
      "enter 4 elements:\n"
     ]
    },
    {
     "name": "stdin",
     "output_type": "stream",
     "text": [
      " 12\n",
      " 3\n",
      " 14\n",
      " 2\n"
     ]
    },
    {
     "name": "stdout",
     "output_type": "stream",
     "text": [
      "Sorted array [2, 3, 12, 14]\n"
     ]
    }
   ],
   "source": [
    "def insertion_sort(arr):\n",
    "    for i in range(1,len(arr)):\n",
    "        key=arr[i]\n",
    "        j=i-1\n",
    "        while j>=0 and arr[j]>key:\n",
    "            arr[j+1]=arr[j]\n",
    "            j-=1\n",
    "        arr[j+1]=key\n",
    "    return arr\n",
    "size=int(input(\"enter the no.of elements:\"))\n",
    "arr=[]\n",
    "print(\"enter\",size,\"elements:\")\n",
    "for _ in range(size):\n",
    "    num=int(input())\n",
    "    arr.append(num)\n",
    "result=insertion_sort(arr)\n",
    "print(\"Sorted array\",result)"
   ]
  },
  {
   "cell_type": "code",
   "execution_count": 9,
   "id": "6d2bfa2c-00ad-4847-8fb5-7e4091800aa2",
   "metadata": {},
   "outputs": [
    {
     "name": "stdin",
     "output_type": "stream",
     "text": [
      "enter the no.of elements: 5\n"
     ]
    },
    {
     "name": "stdout",
     "output_type": "stream",
     "text": [
      "enter 5 elements:\n"
     ]
    },
    {
     "name": "stdin",
     "output_type": "stream",
     "text": [
      " apple\n",
      " mango\n",
      " grapes\n",
      " mosambi\n",
      " jackfruit\n"
     ]
    },
    {
     "name": "stdout",
     "output_type": "stream",
     "text": [
      "Sorted array ['apple', 'grapes', 'jackfruit', 'mango', 'mosambi']\n"
     ]
    }
   ],
   "source": [
    "def insertion_sort(arr):\n",
    "    for i in range(1,len(arr)):\n",
    "        key=arr[i]\n",
    "        j=i-1\n",
    "        while j>=0 and arr[j]>key:\n",
    "            arr[j+1]=arr[j]\n",
    "            j-=1\n",
    "        arr[j+1]=key\n",
    "    return arr\n",
    "size=int(input(\"enter the no.of elements:\"))\n",
    "arr=[]\n",
    "print(\"enter\",size,\"elements:\")\n",
    "for _ in range(size):\n",
    "    name=input()\n",
    "    arr.append(name)\n",
    "result=insertion_sort(arr)\n",
    "print(\"Sorted array\",result)"
   ]
  },
  {
   "cell_type": "code",
   "execution_count": 16,
   "id": "f326064d-73f2-4b5d-a12f-7679f2c6d94c",
   "metadata": {},
   "outputs": [
    {
     "name": "stdin",
     "output_type": "stream",
     "text": [
      "enter the no.of elements: 5\n"
     ]
    },
    {
     "name": "stdout",
     "output_type": "stream",
     "text": [
      "enter 5 elements:\n"
     ]
    },
    {
     "name": "stdin",
     "output_type": "stream",
     "text": [
      " kiwi\n",
      " apple\n",
      " casturdapple\n",
      " jackfruit\n",
      " grapes\n"
     ]
    },
    {
     "name": "stdout",
     "output_type": "stream",
     "text": [
      "Sorted array ['kiwi', 'apple', 'grapes', 'jackfruit', 'casturdapple']\n"
     ]
    }
   ],
   "source": [
    "\"\"\"perform insertion sort on strings based on length of the words\"\"\"\n",
    "def insertion_sort(arr):\n",
    "    for i in range(len(arr)):\n",
    "         key=arr[i]\n",
    "         j=i-1\n",
    "         while j>=0 and len(arr[j])>len(key):\n",
    "             arr[j+1]=arr[j]\n",
    "             j-=1\n",
    "         arr[j+1]=key\n",
    "    return arr\n",
    "size=int(input(\"enter the no.of elements:\"))\n",
    "arr=[]\n",
    "print(\"enter\",size,\"elements:\")\n",
    "for _ in range(size):\n",
    "    name=input()\n",
    "    arr.append(name)\n",
    "result=insertion_sort(arr)\n",
    "print(\"Sorted array\",result)"
   ]
  },
  {
   "cell_type": "code",
   "execution_count": 22,
   "id": "ae8a968a-c27c-40f9-92ca-f46ff793eb90",
   "metadata": {},
   "outputs": [
    {
     "name": "stdin",
     "output_type": "stream",
     "text": [
      " python\n"
     ]
    },
    {
     "name": "stdout",
     "output_type": "stream",
     "text": [
      "sorted array: hnopty\n"
     ]
    }
   ],
   "source": [
    "\"\"\"perform insertion sort on word to sort the order of the letters\"\"\"\n",
    "def insertion_sort(arr):\n",
    "    for i in range(len(arr)):\n",
    "         key=arr[i]\n",
    "         j=i-1\n",
    "         while j>=0 and arr[j]>key:\n",
    "             arr[j+1]=arr[j]\n",
    "             j-=1\n",
    "         arr[j+1]=key\n",
    "    return arr\n",
    "name=input()\n",
    "ch=list(name)\n",
    "sort_chars=insertion_sort(ch)\n",
    "print(\"sorted array:\",''.join(ch))"
   ]
  },
  {
   "cell_type": "code",
   "execution_count": null,
   "id": "7736cbb5-ea1a-4bb7-92d2-e6e9d7ea554d",
   "metadata": {},
   "outputs": [],
   "source": []
  }
 ],
 "metadata": {
  "kernelspec": {
   "display_name": "Python 3 (ipykernel)",
   "language": "python",
   "name": "python3"
  },
  "language_info": {
   "codemirror_mode": {
    "name": "ipython",
    "version": 3
   },
   "file_extension": ".py",
   "mimetype": "text/x-python",
   "name": "python",
   "nbconvert_exporter": "python",
   "pygments_lexer": "ipython3",
   "version": "3.12.7"
  }
 },
 "nbformat": 4,
 "nbformat_minor": 5
}
