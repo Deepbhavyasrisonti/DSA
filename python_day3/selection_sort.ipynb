{
 "cells": [
  {
   "cell_type": "code",
   "execution_count": 11,
   "id": "adadef00-fcca-4169-90e5-0d4f62678033",
   "metadata": {},
   "outputs": [
    {
     "name": "stdin",
     "output_type": "stream",
     "text": [
      "enter the no.of elements: 7\n"
     ]
    },
    {
     "name": "stdout",
     "output_type": "stream",
     "text": [
      "enter 7 elements:\n"
     ]
    },
    {
     "name": "stdin",
     "output_type": "stream",
     "text": [
      " 17\n",
      " 14\n",
      " 15\n",
      " 19\n",
      " 18\n",
      " 12\n",
      " 1\n"
     ]
    },
    {
     "name": "stdout",
     "output_type": "stream",
     "text": [
      "Sorted array [1, 12, 14, 15, 17, 18, 19]\n"
     ]
    }
   ],
   "source": [
    "def selection_sort(arr):\n",
    "    n=len(arr)\n",
    "    for i in range(n):\n",
    "        min_index=i\n",
    "        for j in range(i+1,n):\n",
    "            if arr[j]<arr[min_index]:\n",
    "                min_index=j\n",
    "        arr[i],arr[min_index]=arr[min_index],arr[i]\n",
    "    return arr\n",
    "size=int(input(\"enter the no.of elements:\"))\n",
    "arr=[]\n",
    "print(\"enter\",size,\"elements:\")\n",
    "for _ in range(size):\n",
    "    num=int(input())\n",
    "    arr.append(num)\n",
    "result=selection_sort(arr)\n",
    "print(\"Sorted array\",result)"
   ]
  },
  {
   "cell_type": "code",
   "execution_count": 13,
   "id": "b4a40f44-5f20-4e8d-88d2-3604c54b920e",
   "metadata": {},
   "outputs": [
    {
     "name": "stdin",
     "output_type": "stream",
     "text": [
      "enter the no.of elements: 7\n"
     ]
    },
    {
     "name": "stdout",
     "output_type": "stream",
     "text": [
      "enter 7 elements:\n"
     ]
    },
    {
     "name": "stdin",
     "output_type": "stream",
     "text": [
      " 17\n",
      " 14\n",
      " 15\n",
      " 19\n",
      " 18\n",
      " 12\n",
      " 1\n"
     ]
    },
    {
     "name": "stdout",
     "output_type": "stream",
     "text": [
      "Sorted array [19, 18, 17, 15, 14, 12, 1]\n"
     ]
    }
   ],
   "source": [
    "# selection_soert in descending order\n",
    "def selection_sort(arr):\n",
    "    n=len(arr)\n",
    "    for i in range(n):\n",
    "        min_index=i\n",
    "        for j in range(i+1,n):\n",
    "            if arr[j]>arr[min_index]:\n",
    "                min_index=j\n",
    "        arr[i],arr[min_index]=arr[min_index],arr[i]\n",
    "    return arr\n",
    "size=int(input(\"enter the no.of elements:\"))\n",
    "arr=[]\n",
    "print(\"enter\",size,\"elements:\")\n",
    "for _ in range(size):\n",
    "    num=int(input())\n",
    "    arr.append(num)\n",
    "result=selection_sort(arr)\n",
    "print(\"Sorted array\",result)"
   ]
  },
  {
   "cell_type": "code",
   "execution_count": null,
   "id": "da1b4740-0cc3-46fa-aaee-d5932db74d99",
   "metadata": {},
   "outputs": [],
   "source": []
  }
 ],
 "metadata": {
  "kernelspec": {
   "display_name": "Python 3 (ipykernel)",
   "language": "python",
   "name": "python3"
  },
  "language_info": {
   "codemirror_mode": {
    "name": "ipython",
    "version": 3
   },
   "file_extension": ".py",
   "mimetype": "text/x-python",
   "name": "python",
   "nbconvert_exporter": "python",
   "pygments_lexer": "ipython3",
   "version": "3.12.7"
  }
 },
 "nbformat": 4,
 "nbformat_minor": 5
}
