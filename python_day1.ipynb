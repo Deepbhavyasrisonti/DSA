{
 "cells": [
  {
   "cell_type": "code",
   "execution_count": 9,
   "id": "a39e260a-4576-40c2-80b9-8cfa9db976f8",
   "metadata": {},
   "outputs": [
    {
     "name": "stdout",
     "output_type": "stream",
     "text": [
      "10 20 25 30 40 50 10 20 25 40 \n",
      " 25 is in array? True\n"
     ]
    }
   ],
   "source": [
    "\"\"\"program to consider a list arr=[10,20,30,40] and perform insert operation \n",
    "with 50 and 25 at position 2 respectively and delete 30 \n",
    "and traverse the array to fetch a number 25 is prtesent or not\"\"\"\n",
    "arr=[10,20,30,40]\n",
    "#insert operation \n",
    "arr.append(50)\n",
    "arr.insert(2,25)\n",
    "#print(arr)\n",
    "for i in arr:\n",
    "    print(i,end=\" \")\n",
    "#delete operation\n",
    "arr.remove(30)\n",
    "arr.pop()\n",
    "#print(arr)\n",
    "#traverse\n",
    "for i in arr:\n",
    "    print(i,end=\" \")\n",
    "#searching\n",
    "print(\"\\n 25 is in array?\", 25 in arr)"
   ]
  },
  {
   "cell_type": "code",
   "execution_count": 1,
   "id": "5f81f029-cdc9-4382-a109-5d242d28d021",
   "metadata": {},
   "outputs": [
    {
     "name": "stdin",
     "output_type": "stream",
     "text": [
      "enter palindromic string malayalam\n"
     ]
    },
    {
     "name": "stdout",
     "output_type": "stream",
     "text": [
      "palindrome\n",
      "{'m': 2, 'a': 4, 'l': 2, 'y': 1}\n"
     ]
    }
   ],
   "source": [
    "\"\"\"program to check the given string is a palindrome are not \n",
    "and count the palindromic characters which are repeated  \n",
    "str=madam\n",
    "output:{'m';2,'a':2,'d':1}\"\"\"\n",
    "text=input(\"enter palindromic string:\")\n",
    "if text==text[::-1]:\n",
    "    print(\"palindrome\")\n",
    "else:\n",
    "    print(\"not palindrome\")\n",
    "count={}\n",
    "for ch in text:\n",
    "    count[ch]=count.get(ch,0)+1\n",
    "print(count)"
   ]
  },
  {
   "cell_type": "code",
   "execution_count": 11,
   "id": "ba9dc62e-75da-4068-ae3e-e85392d61119",
   "metadata": {},
   "outputs": [
    {
     "name": "stdin",
     "output_type": "stream",
     "text": [
      "enter the size of an array: 3\n"
     ]
    },
    {
     "name": "stdout",
     "output_type": "stream",
     "text": [
      "enter the elements:\n"
     ]
    },
    {
     "name": "stdin",
     "output_type": "stream",
     "text": [
      "element1: 10\n",
      "element2: 20\n",
      "element3: 30\n",
      "enter the element to search: 20\n"
     ]
    },
    {
     "name": "stdout",
     "output_type": "stream",
     "text": [
      "element 20 found at 1\n"
     ]
    }
   ],
   "source": [
    "def linear_search(arr,key):\n",
    "    for i in range(len(arr)):\n",
    "        if arr[i]==key:\n",
    "            return i\n",
    "    return -1\n",
    "size=int(input(\"enter the size of an array:\"))\n",
    "arr=[]\n",
    "print(\"enter the elements:\")\n",
    "for i in range(size):\n",
    "    num=int(input(f\"element{i+1}:\"))\n",
    "    arr.append(num)\n",
    "key=int(input(\"enter the element to search:\"))\n",
    "result=linear_search(arr,key)\n",
    "if result !=-1:\n",
    "    print(f\"element {key} found at {result}\")\n",
    "else:\n",
    "    print(f\"element {key} notfound in the array\")"
   ]
  },
  {
   "cell_type": "code",
   "execution_count": null,
   "id": "5f74684e-4017-4f1e-82ae-bf029ffda3e0",
   "metadata": {},
   "outputs": [],
   "source": []
  }
 ],
 "metadata": {
  "kernelspec": {
   "display_name": "Python 3 (ipykernel)",
   "language": "python",
   "name": "python3"
  },
  "language_info": {
   "codemirror_mode": {
    "name": "ipython",
    "version": 3
   },
   "file_extension": ".py",
   "mimetype": "text/x-python",
   "name": "python",
   "nbconvert_exporter": "python",
   "pygments_lexer": "ipython3",
   "version": "3.12.7"
  }
 },
 "nbformat": 4,
 "nbformat_minor": 5
}
