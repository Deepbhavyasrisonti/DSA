{
 "cells": [
  {
   "cell_type": "code",
   "execution_count": 3,
   "id": "40ca690e-7b74-4735-802b-483f335e5a0d",
   "metadata": {},
   "outputs": [
    {
     "name": "stdin",
     "output_type": "stream",
     "text": [
      "enter the no.of elements: 5\n"
     ]
    },
    {
     "name": "stdout",
     "output_type": "stream",
     "text": [
      "enter the elements:\n"
     ]
    },
    {
     "name": "stdin",
     "output_type": "stream",
     "text": [
      " 5\n",
      " 3\n",
      " 4\n",
      " 6\n",
      " 1\n"
     ]
    },
    {
     "name": "stdout",
     "output_type": "stream",
     "text": [
      "original List: [5, 3, 4, 6, 1]\n",
      "bubblesolrted: None\n"
     ]
    }
   ],
   "source": [
    "def bubble_sort(arr):\n",
    "    n=len(arr)\n",
    "    for i in range(n):\n",
    "        for j in range(0,n-i-1):\n",
    "            if arr[j]>arr[j+1]:\n",
    "                arr[j],arr[j+1]=arr[j+1],arr[j]\n",
    "size=int(input(\"enter the no.of elements:\"))\n",
    "arr=[]\n",
    "print(\"enter the elements:\")\n",
    "for _ in range(size):\n",
    "    arr.append(int(input()))\n",
    "print(\"original List:\",arr)\n",
    "bubble_sort(arr)\n",
    "print(\"bubblesolrted:\",arr)"
   ]
  },
  {
   "cell_type": "code",
   "execution_count": null,
   "id": "416499fd-b545-48b9-91ef-da0818e56d6a",
   "metadata": {},
   "outputs": [],
   "source": []
  }
 ],
 "metadata": {
  "kernelspec": {
   "display_name": "Python 3 (ipykernel)",
   "language": "python",
   "name": "python3"
  },
  "language_info": {
   "codemirror_mode": {
    "name": "ipython",
    "version": 3
   },
   "file_extension": ".py",
   "mimetype": "text/x-python",
   "name": "python",
   "nbconvert_exporter": "python",
   "pygments_lexer": "ipython3",
   "version": "3.12.7"
  }
 },
 "nbformat": 4,
 "nbformat_minor": 5
}
