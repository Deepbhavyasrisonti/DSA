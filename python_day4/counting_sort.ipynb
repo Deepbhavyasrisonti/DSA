{
 "cells": [
  {
   "cell_type": "code",
   "execution_count": 9,
   "id": "e7290690-a005-4c0a-882d-8af3d6de2a67",
   "metadata": {},
   "outputs": [
    {
     "name": "stdout",
     "output_type": "stream",
     "text": [
      "before: [4, 2, 2, 8, 3, 3, 1]\n",
      "after: [1, 2, 2, 3, 3, 4, 8]\n"
     ]
    }
   ],
   "source": [
    "def csort(arr):\n",
    "    if not arr:\n",
    "        return []\n",
    "    max_val=max(arr)\n",
    "    count=[0]*(max_val+1)\n",
    "    #freq\n",
    "    for num in arr:\n",
    "        count[num]+=1\n",
    "    #count\n",
    "    for i in range(1,len(count)):\n",
    "        count[i]+=count[i-1]\n",
    "    output=[0]*len(arr)\n",
    "    #stable sort\n",
    "    for num in reversed(arr):\n",
    "        output[count[num]-1]=num\n",
    "        count[num ]-=1\n",
    "    #copoiying sorted list\n",
    "    for i in range(len(arr)):\n",
    "        arr[i]=output[i]\n",
    "arr=[4,2,2,8,3,3,1]\n",
    "print(\"before:\",arr)\n",
    "csort(arr)\n",
    "print(\"after:\",arr)\n"
   ]
  },
  {
   "cell_type": "code",
   "execution_count": null,
   "id": "b02fa5d6-72c6-4811-b27c-72b615556bcb",
   "metadata": {},
   "outputs": [],
   "source": []
  }
 ],
 "metadata": {
  "kernelspec": {
   "display_name": "Python 3 (ipykernel)",
   "language": "python",
   "name": "python3"
  },
  "language_info": {
   "codemirror_mode": {
    "name": "ipython",
    "version": 3
   },
   "file_extension": ".py",
   "mimetype": "text/x-python",
   "name": "python",
   "nbconvert_exporter": "python",
   "pygments_lexer": "ipython3",
   "version": "3.12.7"
  }
 },
 "nbformat": 4,
 "nbformat_minor": 5
}
