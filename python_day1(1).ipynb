{
 "cells": [
  {
   "cell_type": "code",
   "execution_count": null,
   "id": "0f436697-fa7b-48ce-8c83-1f672752df1e",
   "metadata": {},
   "outputs": [
    {
     "name": "stdin",
     "output_type": "stream",
     "text": [
      "enter the size of an array: 4\n"
     ]
    },
    {
     "name": "stdout",
     "output_type": "stream",
     "text": [
      "enter the elements:\n"
     ]
    }
   ],
   "source": [
    "#binary search\n",
    "def binary_search(arr,key):\n",
    "    low=0\n",
    "    high=len(arr)-1\n",
    "    while low<=high:\n",
    "        mid=(low+high)//2\n",
    "        if arr[mid]==key:\n",
    "            return mid\n",
    "        elif arr[mid]<key:\n",
    "            low=mid+1\n",
    "        else:\n",
    "            high=mid-1\n",
    "    return -1\n",
    "size=int(input(\"enter the size of an array:\"))\n",
    "arr=[]\n",
    "print(\"enter the elements:\")\n",
    "for i in range(size):\n",
    "    num=int(input(f\"element{i+1}:\"))\n",
    "    arr.append(num)\n",
    "key=int(input(\"enter the element to search:\"))\n",
    "result=binary_search(arr,key)\n",
    "if result !=-1:\n",
    "    print(f\"element {key} found at {result}\")\n",
    "else:\n",
    "    print(f\"element {key} notfound in the array\")"
   ]
  },
  {
   "cell_type": "code",
   "execution_count": null,
   "id": "116f36ab-3bf4-494b-902d-7f627ebbbd9e",
   "metadata": {},
   "outputs": [],
   "source": []
  }
 ],
 "metadata": {
  "kernelspec": {
   "display_name": "Python 3 (ipykernel)",
   "language": "python",
   "name": "python3"
  },
  "language_info": {
   "codemirror_mode": {
    "name": "ipython",
    "version": 3
   },
   "file_extension": ".py",
   "mimetype": "text/x-python",
   "name": "python",
   "nbconvert_exporter": "python",
   "pygments_lexer": "ipython3",
   "version": "3.12.7"
  }
 },
 "nbformat": 4,
 "nbformat_minor": 5
}
