{
 "cells": [
  {
   "cell_type": "code",
   "execution_count": 3,
   "id": "4cf9b0ca-500e-4df1-a0a0-f4ad1ef2e67c",
   "metadata": {},
   "outputs": [
    {
     "name": "stdout",
     "output_type": "stream",
     "text": [
      " element 7 found at index:3\n"
     ]
    }
   ],
   "source": [
    "import math\n",
    "def jump_search(arr,target):\n",
    "    if not arr:\n",
    "        return -1\n",
    "    n=len(arr)\n",
    "    step=int(math.sqrt(n))\n",
    "    prev=0\n",
    "    while prev<n and arr[prev]<target:\n",
    "        prev+=step\n",
    "    for i in range(max(0,prev-step),min(n,prev+1)):\n",
    "        if arr[i]==target:\n",
    "            return i\n",
    "    return -1\n",
    "arr=[1,3,5,7,8,9,11]\n",
    "target=7\n",
    "result=jump_search(arr,target)\n",
    "print(f\" element {target} found at index:{result}\")"
   ]
  },
  {
   "cell_type": "code",
   "execution_count": null,
   "id": "f3b0082b-c47a-4389-a3fd-e452a1e29362",
   "metadata": {},
   "outputs": [],
   "source": []
  }
 ],
 "metadata": {
  "kernelspec": {
   "display_name": "Python 3 (ipykernel)",
   "language": "python",
   "name": "python3"
  },
  "language_info": {
   "codemirror_mode": {
    "name": "ipython",
    "version": 3
   },
   "file_extension": ".py",
   "mimetype": "text/x-python",
   "name": "python",
   "nbconvert_exporter": "python",
   "pygments_lexer": "ipython3",
   "version": "3.12.7"
  }
 },
 "nbformat": 4,
 "nbformat_minor": 5
}
