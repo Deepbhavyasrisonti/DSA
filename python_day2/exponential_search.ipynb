{
 "cells": [
  {
   "cell_type": "code",
   "execution_count": null,
   "id": "9bda24ec-3aa1-4ae3-bc2d-64e390d55f63",
   "metadata": {},
   "outputs": [],
   "source": [
    "def bsearch_range(arr,target,left,right):\n",
    "    while left<=right:\n",
    "        mid=(left+right)//2\n",
    "        if arr[mid]==target:\n",
    "            return mid\n",
    "        elif arr[mid]<target:\n",
    "            left= mid+1\n",
    "        else:\n",
    "            right=mid-1\n",
    "def expo_search(arr,target):\n",
    "    if not arr:\n",
    "        return -1\n",
    "    if arr[0]==target:\n",
    "        return 0\n",
    "    n=len(arr)\n",
    "    i=1\n",
    "    while i<n and arr[i]<=target:\n",
    "        i *=2\n",
    "    return bsearch_range(arr,target,i//2,min(1,n-1))\n",
    "    \n",
    "arr=[2,4,6,8,10,12,14]\n",
    "target=10\n",
    "result=expo_search(arr,target)\n",
    "print(f\" element {target} found at index:{result}\")"
   ]
  }
 ],
 "metadata": {
  "kernelspec": {
   "display_name": "Python 3 (ipykernel)",
   "language": "python",
   "name": "python3"
  },
  "language_info": {
   "codemirror_mode": {
    "name": "ipython",
    "version": 3
   },
   "file_extension": ".py",
   "mimetype": "text/x-python",
   "name": "python",
   "nbconvert_exporter": "python",
   "pygments_lexer": "ipython3",
   "version": "3.12.7"
  }
 },
 "nbformat": 4,
 "nbformat_minor": 5
}
